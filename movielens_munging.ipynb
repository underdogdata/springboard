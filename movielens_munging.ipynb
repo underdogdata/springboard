{
 "cells": [
  {
   "cell_type": "code",
   "execution_count": 2,
   "metadata": {
    "collapsed": false
   },
   "outputs": [
    {
     "name": "stdout",
     "output_type": "stream",
     "text": [
      "Populating the interactive namespace from numpy and matplotlib\n"
     ]
    }
   ],
   "source": [
    "%pylab inline\n",
    "import pandas as pd\n",
    "import os\n",
    "\n",
    "# os.chdir(\"C:/Users/stacy/Documents/python3/ml-latest/\") #was: -small/\n",
    "# print(os.getcwd())\n",
    "# os.listdir()"
   ]
  },
  {
   "cell_type": "code",
   "execution_count": 11,
   "metadata": {
    "collapsed": true
   },
   "outputs": [],
   "source": [
    "mypath = \"C:/Users/stacy/Documents/python3/ml-latest-small/\"\n",
    "lnk = pd.read_csv(mypath+\"links.csv\")\n",
    "mov = pd.read_csv(mypath+\"movies.csv\")\n",
    "rat = pd.read_csv(mypath+\"ratings.csv\")\n",
    "tag = pd.read_csv(mypath+\"tags.csv\")"
   ]
  },
  {
   "cell_type": "code",
   "execution_count": 21,
   "metadata": {
    "collapsed": false
   },
   "outputs": [
    {
     "name": "stdout",
     "output_type": "stream",
     "text": [
      "   0                                   1                             2\n",
      "0  1                    Toy Story (1995)   Animation|Children's|Comedy\n",
      "1  2                      Jumanji (1995)  Adventure|Children's|Fantasy\n",
      "2  3             Grumpier Old Men (1995)                Comedy|Romance\n",
      "3  4            Waiting to Exhale (1995)                  Comedy|Drama\n",
      "4  5  Father of the Bride Part II (1995)                        Comedy\n",
      "   0  1   2   3      4\n",
      "0  1  F   1  10  48067\n",
      "1  2  M  56  16  70072\n",
      "2  3  M  25  15  55117\n",
      "3  4  M  45   7  02460\n",
      "4  5  M  25  20  55455\n",
      "\n",
      "kaggle-rat\n",
      "    user  movie  rating         id\n",
      "0  2783   1253       5  2783_1253\n",
      "1  2783    589       5   2783_589\n",
      "2  2783   1270       4  2783_1270\n",
      "3  2783   1274       4  2783_1274\n",
      "4  2783    741       5   2783_741\n",
      "\n",
      "rat\n",
      "    userId  movieId  rating   timestamp\n",
      "0       1       31     2.5  1260759144\n",
      "1       1     1029     3.0  1260759179\n",
      "2       1     1061     3.0  1260759182\n",
      "3       1     1129     2.0  1260759185\n",
      "4       1     1172     4.0  1260759205\n"
     ]
    },
    {
     "name": "stderr",
     "output_type": "stream",
     "text": [
      "C:\\Users\\stacy\\Anaconda3\\lib\\site-packages\\ipykernel\\__main__.py:3: ParserWarning: Falling back to the 'python' engine because the 'c' engine does not support regex separators (separators > 1 char and different from '\\s+' are interpreted as regex); you can avoid this warning by specifying engine='python'.\n",
      "  app.launch_new_instance()\n",
      "C:\\Users\\stacy\\Anaconda3\\lib\\site-packages\\ipykernel\\__main__.py:4: ParserWarning: Falling back to the 'python' engine because the 'c' engine does not support regex separators (separators > 1 char and different from '\\s+' are interpreted as regex); you can avoid this warning by specifying engine='python'.\n"
     ]
    }
   ],
   "source": [
    "mypath = \"C:/Users/stacy/Documents/python3/ml-kaggle/\"\n",
    "krat = pd.read_csv(mypath+\"training_ratings_for_kaggle_comp.csv\")\n",
    "kmov = pd.read_table(mypath+\"movies.dat\",sep=\"\\:\\:\",header=None)\n",
    "kusr = pd.read_table(mypath+\"users.dat\",sep=\"\\:\\:\",header=None)\n",
    "\n",
    "print(kmov.head())\n",
    "print(kusr.head())\n",
    "print(\"\\nkaggle-rat\\n\", krat.head())\n",
    "print(\"\\nrat\\n\", rat.head())\n",
    "\n"
   ]
  },
  {
   "cell_type": "code",
   "execution_count": 9,
   "metadata": {
    "collapsed": false
   },
   "outputs": [
    {
     "name": "stdout",
     "output_type": "stream",
     "text": [
      "lnk\n",
      "    movieId  imdbId   tmdbId\n",
      "0        1  114709    862.0\n",
      "1        2  113497   8844.0\n",
      "2        3  113228  15602.0\n",
      "3        4  114885  31357.0\n",
      "4        5  113041  11862.0\n",
      "\n",
      "rat\n",
      "    userId  movieId  rating  timestamp\n",
      "0       1      122     2.0  945544824\n",
      "1       1      172     1.0  945544871\n",
      "2       1     1221     5.0  945544788\n",
      "3       1     1441     4.0  945544871\n",
      "4       1     1609     3.0  945544824\n",
      "\n",
      "tag\n",
      "    userId  movieId             tag   timestamp\n",
      "0      28    63062  angelina jolie  1263047558\n",
      "1      40     4973          Poetic  1436439070\n",
      "2      40   117533         privacy  1436439140\n",
      "3      57      356   life positive  1291771526\n",
      "4      73    81591   psychological  1296948434\n",
      "\n",
      "mov\n",
      "    movieId                               title  \\\n",
      "0        1                    Toy Story (1995)   \n",
      "1        2                      Jumanji (1995)   \n",
      "2        3             Grumpier Old Men (1995)   \n",
      "3        4            Waiting to Exhale (1995)   \n",
      "4        5  Father of the Bride Part II (1995)   \n",
      "\n",
      "                                        genres  \n",
      "0  Adventure|Animation|Children|Comedy|Fantasy  \n",
      "1                   Adventure|Children|Fantasy  \n",
      "2                               Comedy|Romance  \n",
      "3                         Comedy|Drama|Romance  \n",
      "4                                       Comedy  \n"
     ]
    }
   ],
   "source": [
    "print(\"lnk\\n\", lnk.head())\n",
    "print(\"\\nrat\\n\", rat.head())\n",
    "print(\"\\ntag\\n\", tag.head())\n",
    "print(\"\\nmov\\n\" mov.head())\n"
   ]
  },
  {
   "cell_type": "code",
   "execution_count": null,
   "metadata": {
    "collapsed": true
   },
   "outputs": [],
   "source": []
  }
 ],
 "metadata": {
  "anaconda-cloud": {},
  "kernelspec": {
   "display_name": "Python [default]",
   "language": "python",
   "name": "python3"
  },
  "language_info": {
   "codemirror_mode": {
    "name": "ipython",
    "version": 3
   },
   "file_extension": ".py",
   "mimetype": "text/x-python",
   "name": "python",
   "nbconvert_exporter": "python",
   "pygments_lexer": "ipython3",
   "version": "3.5.2"
  }
 },
 "nbformat": 4,
 "nbformat_minor": 1
}
